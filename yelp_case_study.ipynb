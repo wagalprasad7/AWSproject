{
 "cells": [
  {
   "cell_type": "code",
   "execution_count": 1,
   "metadata": {},
   "outputs": [
    {
     "data": {
      "application/vnd.jupyter.widget-view+json": {
       "model_id": "5c2bc6a1e036436e8de79088306a76c8",
       "version_major": 2,
       "version_minor": 0
      },
      "text/plain": [
       "VBox()"
      ]
     },
     "metadata": {},
     "output_type": "display_data"
    },
    {
     "name": "stdout",
     "output_type": "stream",
     "text": [
      "Starting Spark application\n"
     ]
    },
    {
     "data": {
      "text/html": [
       "<table>\n",
       "<tr><th>ID</th><th>YARN Application ID</th><th>Kind</th><th>State</th><th>Spark UI</th><th>Driver log</th><th>Current session?</th></tr><tr><td>3</td><td>application_1600859586113_0004</td><td>pyspark</td><td>idle</td><td><a target=\"_blank\" href=\"http://ip-172-31-45-228.eu-west-2.compute.internal:20888/proxy/application_1600859586113_0004/\">Link</a></td><td><a target=\"_blank\" href=\"http://ip-172-31-34-240.eu-west-2.compute.internal:8042/node/containerlogs/container_1600859586113_0004_01_000001/livy\">Link</a></td><td>✔</td></tr></table>"
      ],
      "text/plain": [
       "<IPython.core.display.HTML object>"
      ]
     },
     "metadata": {},
     "output_type": "display_data"
    },
    {
     "data": {
      "application/vnd.jupyter.widget-view+json": {
       "model_id": "",
       "version_major": 2,
       "version_minor": 0
      },
      "text/plain": [
       "FloatProgress(value=0.0, bar_style='info', description='Progress:', layout=Layout(height='25px', width='50%'),…"
      ]
     },
     "metadata": {},
     "output_type": "display_data"
    },
    {
     "name": "stdout",
     "output_type": "stream",
     "text": [
      "SparkSession available as 'spark'.\n"
     ]
    },
    {
     "data": {
      "application/vnd.jupyter.widget-view+json": {
       "model_id": "",
       "version_major": 2,
       "version_minor": 0
      },
      "text/plain": [
       "FloatProgress(value=0.0, bar_style='info', description='Progress:', layout=Layout(height='25px', width='50%'),…"
      ]
     },
     "metadata": {},
     "output_type": "display_data"
    }
   ],
   "source": [
    "# Dataframe creation by using S3 path of file\n",
    "yelp_data= spark.read.json(\"s3://wagal/bigdata/yelp_academic_dataset_business.json\")"
   ]
  },
  {
   "cell_type": "code",
   "execution_count": 2,
   "metadata": {},
   "outputs": [
    {
     "data": {
      "application/vnd.jupyter.widget-view+json": {
       "model_id": "472a7a8290724949b7d82dafc3557469",
       "version_major": 2,
       "version_minor": 0
      },
      "text/plain": [
       "VBox()"
      ]
     },
     "metadata": {},
     "output_type": "display_data"
    },
    {
     "data": {
      "application/vnd.jupyter.widget-view+json": {
       "model_id": "",
       "version_major": 2,
       "version_minor": 0
      },
      "text/plain": [
       "FloatProgress(value=0.0, bar_style='info', description='Progress:', layout=Layout(height='25px', width='50%'),…"
      ]
     },
     "metadata": {},
     "output_type": "display_data"
    },
    {
     "name": "stdout",
     "output_type": "stream",
     "text": [
      "DataFrame[address: string, attributes: struct<AcceptsInsurance:string,AgesAllowed:string,Alcohol:string,Ambience:string,BYOB:string,BYOBCorkage:string,BestNights:string,BikeParking:string,BusinessAcceptsBitcoin:string,BusinessAcceptsCreditCards:string,BusinessParking:string,ByAppointmentOnly:string,Caters:string,CoatCheck:string,Corkage:string,DietaryRestrictions:string,DogsAllowed:string,DriveThru:string,GoodForDancing:string,GoodForKids:string,GoodForMeal:string,HairSpecializesIn:string,HappyHour:string,HasTV:string,Music:string,NoiseLevel:string,Open24Hours:string,OutdoorSeating:string,RestaurantsAttire:string,RestaurantsCounterService:string,RestaurantsDelivery:string,RestaurantsGoodForGroups:string,RestaurantsPriceRange2:string,RestaurantsReservations:string,RestaurantsTableService:string,RestaurantsTakeOut:string,Smoking:string,WheelchairAccessible:string,WiFi:string>, business_id: string, categories: string, city: string, hours: struct<Friday:string,Monday:string,Saturday:string,Sunday:string,Thursday:string,Tuesday:string,Wednesday:string>, is_open: bigint, latitude: double, longitude: double, name: string, postal_code: string, review_count: bigint, stars: double, state: string]"
     ]
    }
   ],
   "source": [
    "yelp_data"
   ]
  },
  {
   "cell_type": "code",
   "execution_count": 3,
   "metadata": {},
   "outputs": [
    {
     "data": {
      "application/vnd.jupyter.widget-view+json": {
       "model_id": "09f0f6e2798744f8910a4caba9e1b6c4",
       "version_major": 2,
       "version_minor": 0
      },
      "text/plain": [
       "VBox()"
      ]
     },
     "metadata": {},
     "output_type": "display_data"
    },
    {
     "data": {
      "application/vnd.jupyter.widget-view+json": {
       "model_id": "",
       "version_major": 2,
       "version_minor": 0
      },
      "text/plain": [
       "FloatProgress(value=0.0, bar_style='info', description='Progress:', layout=Layout(height='25px', width='50%'),…"
      ]
     },
     "metadata": {},
     "output_type": "display_data"
    },
    {
     "name": "stdout",
     "output_type": "stream",
     "text": [
      "+--------------------+--------------------+--------------------+--------------------+---------------+--------------------+-------+-------------+---------------+--------------------+-----------+------------+-----+-----+\n",
      "|             address|          attributes|         business_id|          categories|           city|               hours|is_open|     latitude|      longitude|                name|postal_code|review_count|stars|state|\n",
      "+--------------------+--------------------+--------------------+--------------------+---------------+--------------------+-------+-------------+---------------+--------------------+-----------+------------+-----+-----+\n",
      "|     10913 Bailey Rd|[,,,,,,, True,, T...|f9NumwFMBDn751xgF...|Active Life, Gun/...|      Cornelius|[11:0-20:0, 10:0-...|      1|   35.4627242|    -80.8526119|The Range At Lake...|      28031|          36|  3.5|   NC|\n",
      "|8880 E Via Linda,...|[,,,,,,,,,,, True...|Yzvjg0SayhoZgCljU...|Health & Medical,...|     Scottsdale|                null|      1|   33.5694041|   -111.8902637|   Carlos Santo, NMD|      85258|           4|  5.0|   AZ|\n",
      "|3554 Rue Notre-Da...|                null|XNoUzKckATkOD1hP6...|Pets, Pet Service...|       Montreal|                null|      1|    45.479984|      -73.58007|             Felinus|    H4C 1P4|           5|  5.0|   QC|\n",
      "|      1015 Sharp Cir|[,,,,,,, True,, T...|6OAZjbxqM5ol29BuH...|Hardware Stores, ...|North Las Vegas|[7:0-16:0, 7:0-16...|      0|   36.2197281|   -115.1277255|Nevada House of Hose|      89030|           3|  2.5|   NV|\n",
      "|  4827 E Downing Cir|[,,,,,,,,, True,,...|51M2Kk903DFYI6gnB...|Home Services, Pl...|           Mesa|[9:0-16:0, 0:0-0:...|      1|   33.4280652|   -111.7266485|USE MY GUY SERVIC...|      85205|          26|  4.5|   AZ|\n",
      "|1720 W Elliot Rd,...|[,,,,,,,,, True,,...|cKyLV5oWZJ2NudWgq...|Auto Repair, Auto...|        Gilbert|[7:0-18:0, 7:0-18...|      1|   33.3503993|   -111.8271417|Oasis Auto Center...|      85233|          38|  4.5|   AZ|\n",
      "|6870 S Rainbow Bl...|[,,,,,,, True,, T...|oiAlXZPIFm2nBCt0D...|Dry Cleaning & La...|      Las Vegas|[7:0-19:0, 7:0-19...|      1|   36.0639767|    -115.241463|Green World Cleaners|      89118|          81|  3.5|   NV|\n",
      "| 6910 E Southern Ave|[,,,,,,,,, True,,...|ScYkbYNkDgCneBrD9...|Auto Repair, Oil ...|           Mesa|[7:30-17:0, 7:30-...|      1|   33.3938847|   -111.6822257|Junction Tire & A...|      85209|          18|  5.0|   AZ|\n",
      "|      404 E Green St|[,, 'none',,,,, F...|pQeaRpvuhoEqudo3u...|Ethnic Food, Food...|      Champaign|[11:30-14:30, 11:...|      1|   40.1104457|    -88.2330726| The Empanadas House|      61820|           5|  4.5|   IL|\n",
      "|700 Kipling Avenu...|[,,,,,,, False,,,...|EosRKXIGeSWFYWwpk...|Martial Arts, Gym...|        Toronto|[5:30-23:0, 5:30-...|      1|43.6245394916| -79.5291079302|      Xtreme Couture|    M8Z 5G3|          16|  3.0|   ON|\n",
      "|                    |                null|MbZMmwo-eL0Jnm_Yb...|Contractors, Land...|        Calgary|[7:0-17:0, 7:0-17...|      1|   50.9459599|   -114.0372072|Chinook Landscapi...|    T2J 2P2|           3|  5.0|   AB|\n",
      "|1110 Saw Mill Run...|[,,,,,,,,, True,,...|7Dv4_HAxsxvadEsT5...|Automotive, Auto ...|     Pittsburgh|[8:0-17:0, 8:0-17...|      1|   40.4066674|    -80.0044502|Dependable Brakes...|      15226|           5|  5.0|   PA|\n",
      "|   2831 Parmenter St|[,,,,,,, True,, T...|M_guz7Dj7hX0evS67...|Desserts, Food, I...|      Middleton|[11:0-22:0, 0:0-0...|      1|43.1053100891| -89.5101417974|Chocolate Shoppe ...|      53562|           6|  3.5|   WI|\n",
      "|116 N Roosevelt A...|[,,,,,,,,, True,,...|JjJs3o60uQCfctDjs...|Contractors, Home...|       Chandler|[9:0-16:0, 9:0-16...|      1|   33.3038687|   -111.9516598|        Convertabath|      85226|          10|  2.5|   AZ|\n",
      "|     5465 Simmons St|[,,,,,,,,, True, ...|kOICO53wbOiOJcKuC...|Beauty & Spas, Ta...|North Las Vegas|[8:0-21:0, 8:0-21...|      0|    36.263362|   -115.1798386|       Tan Las Vegas|      89031|           5|  3.5|   NV|\n",
      "|     2402 Atchley Dr|[,,,,,,,,, True,,...|rqcOZePlVvJP9Etzl...|Local Services, S...|      Henderson|[8:0-18:0, 8:0-18...|      0|   35.9520457|   -115.0934834|      Desert Storage|      89052|           5|  5.0|   NV|\n",
      "| 3131 Las Vegas Blvd|[,,,,,,, True,, T...|uZuh51lXu7tsrC8RA...|Shopping, Shoe St...|      Las Vegas|                null|      0|36.1257322229|-115.1676084101|      Manolo Blahnik|      89109|          32|  4.5|   NV|\n",
      "|2115 E Cedar St, ...|[,,,,,,,,, True,,...|nIEhsGbw0vJuYl05b...|Event Planning & ...|          Tempe|                null|      1|   33.4115139|   -111.8953784|   Bloom & Blueprint|      85281|           7|  4.5|   AZ|\n",
      "|      2915 Cherry Rd|[,,,,,,,,, True,,...|edQoeeBFUTYGwnUSE...|Auto Customizatio...|      Rock Hill|[8:0-18:0, 8:0-18...|      1|   34.9811205|    -80.9790228|            Car Guyz|      29730|          10|  4.5|   SC|\n",
      "|     5229 S Power Rd|[False,,,,,,, Tru...|Vwo64kNYDjKi98gUU...|Weight Loss Cente...|           Mesa|[5:30-20:0, 5:30-...|      1|   33.3207235|   -111.6858686|Gateway Fit Body ...|      85212|          16|  4.5|   AZ|\n",
      "+--------------------+--------------------+--------------------+--------------------+---------------+--------------------+-------+-------------+---------------+--------------------+-----------+------------+-----+-----+\n",
      "only showing top 20 rows"
     ]
    }
   ],
   "source": [
    "yelp_data.show()"
   ]
  },
  {
   "cell_type": "code",
   "execution_count": 4,
   "metadata": {},
   "outputs": [
    {
     "data": {
      "application/vnd.jupyter.widget-view+json": {
       "model_id": "0cb8f5f9c02f4a508d44376de4b3fda2",
       "version_major": 2,
       "version_minor": 0
      },
      "text/plain": [
       "VBox()"
      ]
     },
     "metadata": {},
     "output_type": "display_data"
    },
    {
     "data": {
      "application/vnd.jupyter.widget-view+json": {
       "model_id": "",
       "version_major": 2,
       "version_minor": 0
      },
      "text/plain": [
       "FloatProgress(value=0.0, bar_style='info', description='Progress:', layout=Layout(height='25px', width='50%'),…"
      ]
     },
     "metadata": {},
     "output_type": "display_data"
    }
   ],
   "source": [
    "categories = yelp_data['categories']"
   ]
  },
  {
   "cell_type": "code",
   "execution_count": 12,
   "metadata": {},
   "outputs": [
    {
     "data": {
      "application/vnd.jupyter.widget-view+json": {
       "model_id": "b36dfaf082c84c1cb425c2b47a63ff95",
       "version_major": 2,
       "version_minor": 0
      },
      "text/plain": [
       "VBox()"
      ]
     },
     "metadata": {},
     "output_type": "display_data"
    },
    {
     "data": {
      "application/vnd.jupyter.widget-view+json": {
       "model_id": "",
       "version_major": 2,
       "version_minor": 0
      },
      "text/plain": [
       "FloatProgress(value=0.0, bar_style='info', description='Progress:', layout=Layout(height='25px', width='50%'),…"
      ]
     },
     "metadata": {},
     "output_type": "display_data"
    },
    {
     "name": "stdout",
     "output_type": "stream",
     "text": [
      "+--------------------+\n",
      "|          categories|\n",
      "+--------------------+\n",
      "|Active Life, Gun/...|\n",
      "|Health & Medical,...|\n",
      "|Pets, Pet Service...|\n",
      "|Hardware Stores, ...|\n",
      "|Home Services, Pl...|\n",
      "|Auto Repair, Auto...|\n",
      "|Dry Cleaning & La...|\n",
      "|Auto Repair, Oil ...|\n",
      "|Ethnic Food, Food...|\n",
      "|Martial Arts, Gym...|\n",
      "|Contractors, Land...|\n",
      "|Automotive, Auto ...|\n",
      "|Desserts, Food, I...|\n",
      "|Contractors, Home...|\n",
      "|Beauty & Spas, Ta...|\n",
      "|Local Services, S...|\n",
      "|Shopping, Shoe St...|\n",
      "|Event Planning & ...|\n",
      "|Auto Customizatio...|\n",
      "|Weight Loss Cente...|\n",
      "+--------------------+\n",
      "only showing top 20 rows"
     ]
    }
   ],
   "source": [
    "# To show particular column values from a dataframe in pyspark\n",
    "yelp_data.select('categories').show()"
   ]
  },
  {
   "cell_type": "code",
   "execution_count": 13,
   "metadata": {},
   "outputs": [
    {
     "data": {
      "application/vnd.jupyter.widget-view+json": {
       "model_id": "8d324f43dadf492db4c70100baa13f42",
       "version_major": 2,
       "version_minor": 0
      },
      "text/plain": [
       "VBox()"
      ]
     },
     "metadata": {},
     "output_type": "display_data"
    },
    {
     "data": {
      "application/vnd.jupyter.widget-view+json": {
       "model_id": "",
       "version_major": 2,
       "version_minor": 0
      },
      "text/plain": [
       "FloatProgress(value=0.0, bar_style='info', description='Progress:', layout=Layout(height='25px', width='50%'),…"
      ]
     },
     "metadata": {},
     "output_type": "display_data"
    }
   ],
   "source": [
    "# Filter out data for a particular city\n",
    "\n",
    "LasVegasData = yelp_data.filter(yelp_data['city']=='Las Vegas')"
   ]
  },
  {
   "cell_type": "code",
   "execution_count": 14,
   "metadata": {},
   "outputs": [
    {
     "data": {
      "application/vnd.jupyter.widget-view+json": {
       "model_id": "18d5d5fc3c3b4baba143096b8bcfbd09",
       "version_major": 2,
       "version_minor": 0
      },
      "text/plain": [
       "VBox()"
      ]
     },
     "metadata": {},
     "output_type": "display_data"
    },
    {
     "data": {
      "application/vnd.jupyter.widget-view+json": {
       "model_id": "",
       "version_major": 2,
       "version_minor": 0
      },
      "text/plain": [
       "FloatProgress(value=0.0, bar_style='info', description='Progress:', layout=Layout(height='25px', width='50%'),…"
      ]
     },
     "metadata": {},
     "output_type": "display_data"
    },
    {
     "name": "stdout",
     "output_type": "stream",
     "text": [
      "+--------------------+--------------------+--------------------+--------------------+---------+--------------------+-------+-------------+---------------+--------------------+-----------+------------+-----+-----+\n",
      "|             address|          attributes|         business_id|          categories|     city|               hours|is_open|     latitude|      longitude|                name|postal_code|review_count|stars|state|\n",
      "+--------------------+--------------------+--------------------+--------------------+---------+--------------------+-------+-------------+---------------+--------------------+-----------+------------+-----+-----+\n",
      "|6870 S Rainbow Bl...|[,,,,,,, True,, T...|oiAlXZPIFm2nBCt0D...|Dry Cleaning & La...|Las Vegas|[7:0-19:0, 7:0-19...|      1|   36.0639767|    -115.241463|Green World Cleaners|      89118|          81|  3.5|   NV|\n",
      "| 3131 Las Vegas Blvd|[,,,,,,, True,, T...|uZuh51lXu7tsrC8RA...|Shopping, Shoe St...|Las Vegas|                null|      0|36.1257322229|-115.1676084101|      Manolo Blahnik|      89109|          32|  4.5|   NV|\n",
      "|9595 W Tropicana Ave|[,, u'none', {'ro...|fnZrZlqW1Z8iWgTVD...|Mexican, Restaura...|Las Vegas|                null|      0|   36.0997379|   -115.3015683|           Carl's Jr|      89147|          15|  2.5|   NV|\n",
      "| 6530 S Decatur Blvd|[,, u'none', {'ro...|fhNf_sg-XzZ3e7HEV...|Burgers, Restaura...|Las Vegas|[11:0-22:0, 11:0-...|      0|    36.071196|    -115.207463|Meat Chix And Wie...|      89118|          10|  3.0|   NV|\n",
      "|101 S Rainbow Blv...|[,,,,,,,,, False,...|5XMKDYmMGSKkCkrYo...|Hair Stylists, Ha...|Las Vegas|                null|      1|   36.1725342|   -115.2447619|Annette Thomas Ha...|      89107|           7|  5.0|   NV|\n",
      "|818 S Casino Cent...|                null|7uYJJpwORUbCirC1m...|Lawyers, Professi...|Las Vegas|[0:0-0:0, 0:0-0:0...|      1|   36.1619786|   -115.1500885|    Gallo Law Office|      89101|           3|  2.5|   NV|\n",
      "|855 S Grand Centr...|[,,,,,,, False,, ...|bierVTEi44nJtFVQ0...|Accessories, Shop...|Las Vegas|[9:0-21:0, 9:0-21...|      1|   36.1630111|   -115.1583136|Lacoste Outlet La...|      89106|          11|  3.5|   NV|\n",
      "|7175 W Lake Mead ...|[False,,,,,,, Fal...|bevuR6hYNuXCh9W0g...|Eyelash Service, ...|Las Vegas|[10:0-17:0, 10:0-...|      0|    36.195266|   -115.2481396|    MD Laser Med Spa|      89128|          33|  3.5|   NV|\n",
      "|3663 Las Vegas Bl...|[,, u'full_bar', ...|OLciBerMDmD_WYzfY...|Nightlife, Arts &...|Las Vegas|[14:0-23:30, 14:0...|      1|36.1107987156|-115.1725074446|The Lounge at Sax...|      89109|           4|  3.5|   NV|\n",
      "|4005 W Reno Ave, ...|[,,,,,,,,, True,,...|FrMRHhzT-qUzv1-Nh...|Hotels & Travel, ...|Las Vegas|[8:0-20:0, 8:0-20...|      1|   36.0968783|   -115.1928992|Sin City Party Buses|      89118|          18|  4.0|   NV|\n",
      "|                    |[,,,,,,,,, True,,...|OWkS1FXNJbozn-qPg...|Food, Food Trucks...|Las Vegas|    [18:0-0:0,,,,,,]|      1|    36.128561|   -115.1711298|   Mama Napoli Pizza|      89109|          11|  4.5|   NV|\n",
      "|3213 W Charleston...|[True,,,,,,,,, Tr...|w-ZTkkXefxTEHlgpK...|Occupational Ther...|Las Vegas|[8:0-18:0, 0:0-0:...|      1|   36.1583452|    -115.184979|Rehab Directives ...|      89102|           6|  3.5|   NV|\n",
      "|   8033 N Durango Dr|[,, u'none', {'ro...|MTx-Zdl_KcU_z9G83...|Fast Food, Restau...|Las Vegas|                null|      1|   36.3074953|   -115.2790587|           Taco Bell|      89131|          37|  2.5|   NV|\n",
      "|     4910 W Vegas Dr|                null|ba5PtEQcvLm0IH6oH...|Car Wash, Automotive|Las Vegas|                null|      1|36.1882095337|-115.2081298828| Foster Day Car Wash|      89108|           3|  2.5|   NV|\n",
      "|1720 E Charleston...|[,,,,,,, False,, ...|mRMljeCr44acwg7Kg...|Street Vendors, S...|Las Vegas|[10:0-19:0, 10:0-...|      1|36.1577290511|-115.1264768151|Bonanza Indoor Sw...|      89104|           7|  2.5|   NV|\n",
      "|7960 S Rainbow Bl...|[,, 'none', {'tou...|Q_dh08clYUPj13GmC...|Filipino, Restaur...|Las Vegas|[10:0-20:0, 0:0-0...|      0|36.0436627223|-115.2418808932|Kulinarya Express...|      89139|          82|  4.0|   NV|\n",
      "|6725 Via Austi Pk...|                null|2W1tLg8ybRUEKMPoA...|                null|Las Vegas|                null|      1|   36.0672701|   -115.1628395|           Cox Media|      89119|           3|  1.0|   NV|\n",
      "|4254 E Charleston...|[False,,,,,,, Tru...|upSPwM6Fr6RHAhwag...|Specialty Food, H...|Las Vegas|[10:0-18:30, 0:0-...|      1|   36.1592206|   -115.0826068|  Manantial De Salud|      89104|           3|  5.0|   NV|\n",
      "|6125 W Tropicana ...|[,, u'none', {'ro...|Yr_w9lakJrKMyEG_h...|Pizza, Salad, Bur...|Las Vegas|[11:0-22:0, 11:0-...|      1|   36.0993613|   -115.2266356|Fat Moe's Pizza &...|      89103|         141|  4.0|   NV|\n",
      "|2901 Las Vegas Bl...|[,,,,,,,,, True,,...|F7E3qP0oz_SuVGZGL...|Italian, Restaurants|Las Vegas|                null|      0|    36.135385|    -115.159235| Ristorante Italiano|      89109|           3|  3.0|   NV|\n",
      "+--------------------+--------------------+--------------------+--------------------+---------+--------------------+-------+-------------+---------------+--------------------+-----------+------------+-----+-----+\n",
      "only showing top 20 rows"
     ]
    }
   ],
   "source": [
    "LasVegasData.show()"
   ]
  },
  {
   "cell_type": "code",
   "execution_count": 17,
   "metadata": {},
   "outputs": [
    {
     "data": {
      "application/vnd.jupyter.widget-view+json": {
       "model_id": "c41d44693cc94c1ab2aaafc607ece713",
       "version_major": 2,
       "version_minor": 0
      },
      "text/plain": [
       "VBox()"
      ]
     },
     "metadata": {},
     "output_type": "display_data"
    },
    {
     "data": {
      "application/vnd.jupyter.widget-view+json": {
       "model_id": "",
       "version_major": 2,
       "version_minor": 0
      },
      "text/plain": [
       "FloatProgress(value=0.0, bar_style='info', description='Progress:', layout=Layout(height='25px', width='50%'),…"
      ]
     },
     "metadata": {},
     "output_type": "display_data"
    }
   ],
   "source": [
    "# Save this data in parquet format\n",
    "yelp_data.write.parquet(\"s3://wagal/bigdata/parquet\")"
   ]
  },
  {
   "cell_type": "code",
   "execution_count": 18,
   "metadata": {},
   "outputs": [
    {
     "data": {
      "application/vnd.jupyter.widget-view+json": {
       "model_id": "e14be62eda1947c28a7adec1b566eebf",
       "version_major": 2,
       "version_minor": 0
      },
      "text/plain": [
       "VBox()"
      ]
     },
     "metadata": {},
     "output_type": "display_data"
    },
    {
     "data": {
      "application/vnd.jupyter.widget-view+json": {
       "model_id": "",
       "version_major": 2,
       "version_minor": 0
      },
      "text/plain": [
       "FloatProgress(value=0.0, bar_style='info', description='Progress:', layout=Layout(height='25px', width='50%'),…"
      ]
     },
     "metadata": {},
     "output_type": "display_data"
    }
   ],
   "source": [
    "df_yelp_parquet = spark.read.parquet(\"s3://wagal/bigdata/parquet\")"
   ]
  },
  {
   "cell_type": "code",
   "execution_count": 19,
   "metadata": {},
   "outputs": [
    {
     "data": {
      "application/vnd.jupyter.widget-view+json": {
       "model_id": "30244b4de2174a83828d4a28392bec6c",
       "version_major": 2,
       "version_minor": 0
      },
      "text/plain": [
       "VBox()"
      ]
     },
     "metadata": {},
     "output_type": "display_data"
    },
    {
     "data": {
      "application/vnd.jupyter.widget-view+json": {
       "model_id": "",
       "version_major": 2,
       "version_minor": 0
      },
      "text/plain": [
       "FloatProgress(value=0.0, bar_style='info', description='Progress:', layout=Layout(height='25px', width='50%'),…"
      ]
     },
     "metadata": {},
     "output_type": "display_data"
    },
    {
     "name": "stdout",
     "output_type": "stream",
     "text": [
      "+--------------------+--------------------+--------------------+--------------------+---------------+--------------------+-------+-------------+---------------+--------------------+-----------+------------+-----+-----+\n",
      "|             address|          attributes|         business_id|          categories|           city|               hours|is_open|     latitude|      longitude|                name|postal_code|review_count|stars|state|\n",
      "+--------------------+--------------------+--------------------+--------------------+---------------+--------------------+-------+-------------+---------------+--------------------+-----------+------------+-----+-----+\n",
      "|     10913 Bailey Rd|[,,,,,,, True,, T...|f9NumwFMBDn751xgF...|Active Life, Gun/...|      Cornelius|[11:0-20:0, 10:0-...|      1|   35.4627242|    -80.8526119|The Range At Lake...|      28031|          36|  3.5|   NC|\n",
      "|8880 E Via Linda,...|[,,,,,,,,,,, True...|Yzvjg0SayhoZgCljU...|Health & Medical,...|     Scottsdale|                null|      1|   33.5694041|   -111.8902637|   Carlos Santo, NMD|      85258|           4|  5.0|   AZ|\n",
      "|3554 Rue Notre-Da...|                null|XNoUzKckATkOD1hP6...|Pets, Pet Service...|       Montreal|                null|      1|    45.479984|      -73.58007|             Felinus|    H4C 1P4|           5|  5.0|   QC|\n",
      "|      1015 Sharp Cir|[,,,,,,, True,, T...|6OAZjbxqM5ol29BuH...|Hardware Stores, ...|North Las Vegas|[7:0-16:0, 7:0-16...|      0|   36.2197281|   -115.1277255|Nevada House of Hose|      89030|           3|  2.5|   NV|\n",
      "|  4827 E Downing Cir|[,,,,,,,,, True,,...|51M2Kk903DFYI6gnB...|Home Services, Pl...|           Mesa|[9:0-16:0, 0:0-0:...|      1|   33.4280652|   -111.7266485|USE MY GUY SERVIC...|      85205|          26|  4.5|   AZ|\n",
      "|1720 W Elliot Rd,...|[,,,,,,,,, True,,...|cKyLV5oWZJ2NudWgq...|Auto Repair, Auto...|        Gilbert|[7:0-18:0, 7:0-18...|      1|   33.3503993|   -111.8271417|Oasis Auto Center...|      85233|          38|  4.5|   AZ|\n",
      "|6870 S Rainbow Bl...|[,,,,,,, True,, T...|oiAlXZPIFm2nBCt0D...|Dry Cleaning & La...|      Las Vegas|[7:0-19:0, 7:0-19...|      1|   36.0639767|    -115.241463|Green World Cleaners|      89118|          81|  3.5|   NV|\n",
      "| 6910 E Southern Ave|[,,,,,,,,, True,,...|ScYkbYNkDgCneBrD9...|Auto Repair, Oil ...|           Mesa|[7:30-17:0, 7:30-...|      1|   33.3938847|   -111.6822257|Junction Tire & A...|      85209|          18|  5.0|   AZ|\n",
      "|      404 E Green St|[,, 'none',,,,, F...|pQeaRpvuhoEqudo3u...|Ethnic Food, Food...|      Champaign|[11:30-14:30, 11:...|      1|   40.1104457|    -88.2330726| The Empanadas House|      61820|           5|  4.5|   IL|\n",
      "|700 Kipling Avenu...|[,,,,,,, False,,,...|EosRKXIGeSWFYWwpk...|Martial Arts, Gym...|        Toronto|[5:30-23:0, 5:30-...|      1|43.6245394916| -79.5291079302|      Xtreme Couture|    M8Z 5G3|          16|  3.0|   ON|\n",
      "|                    |                null|MbZMmwo-eL0Jnm_Yb...|Contractors, Land...|        Calgary|[7:0-17:0, 7:0-17...|      1|   50.9459599|   -114.0372072|Chinook Landscapi...|    T2J 2P2|           3|  5.0|   AB|\n",
      "|1110 Saw Mill Run...|[,,,,,,,,, True,,...|7Dv4_HAxsxvadEsT5...|Automotive, Auto ...|     Pittsburgh|[8:0-17:0, 8:0-17...|      1|   40.4066674|    -80.0044502|Dependable Brakes...|      15226|           5|  5.0|   PA|\n",
      "|   2831 Parmenter St|[,,,,,,, True,, T...|M_guz7Dj7hX0evS67...|Desserts, Food, I...|      Middleton|[11:0-22:0, 0:0-0...|      1|43.1053100891| -89.5101417974|Chocolate Shoppe ...|      53562|           6|  3.5|   WI|\n",
      "|116 N Roosevelt A...|[,,,,,,,,, True,,...|JjJs3o60uQCfctDjs...|Contractors, Home...|       Chandler|[9:0-16:0, 9:0-16...|      1|   33.3038687|   -111.9516598|        Convertabath|      85226|          10|  2.5|   AZ|\n",
      "|     5465 Simmons St|[,,,,,,,,, True, ...|kOICO53wbOiOJcKuC...|Beauty & Spas, Ta...|North Las Vegas|[8:0-21:0, 8:0-21...|      0|    36.263362|   -115.1798386|       Tan Las Vegas|      89031|           5|  3.5|   NV|\n",
      "|     2402 Atchley Dr|[,,,,,,,,, True,,...|rqcOZePlVvJP9Etzl...|Local Services, S...|      Henderson|[8:0-18:0, 8:0-18...|      0|   35.9520457|   -115.0934834|      Desert Storage|      89052|           5|  5.0|   NV|\n",
      "| 3131 Las Vegas Blvd|[,,,,,,, True,, T...|uZuh51lXu7tsrC8RA...|Shopping, Shoe St...|      Las Vegas|                null|      0|36.1257322229|-115.1676084101|      Manolo Blahnik|      89109|          32|  4.5|   NV|\n",
      "|2115 E Cedar St, ...|[,,,,,,,,, True,,...|nIEhsGbw0vJuYl05b...|Event Planning & ...|          Tempe|                null|      1|   33.4115139|   -111.8953784|   Bloom & Blueprint|      85281|           7|  4.5|   AZ|\n",
      "|      2915 Cherry Rd|[,,,,,,,,, True,,...|edQoeeBFUTYGwnUSE...|Auto Customizatio...|      Rock Hill|[8:0-18:0, 8:0-18...|      1|   34.9811205|    -80.9790228|            Car Guyz|      29730|          10|  4.5|   SC|\n",
      "|     5229 S Power Rd|[False,,,,,,, Tru...|Vwo64kNYDjKi98gUU...|Weight Loss Cente...|           Mesa|[5:30-20:0, 5:30-...|      1|   33.3207235|   -111.6858686|Gateway Fit Body ...|      85212|          16|  4.5|   AZ|\n",
      "+--------------------+--------------------+--------------------+--------------------+---------------+--------------------+-------+-------------+---------------+--------------------+-----------+------------+-----+-----+\n",
      "only showing top 20 rows"
     ]
    }
   ],
   "source": [
    "df_yelp_parquet.show()"
   ]
  },
  {
   "cell_type": "code",
   "execution_count": 22,
   "metadata": {},
   "outputs": [
    {
     "data": {
      "application/vnd.jupyter.widget-view+json": {
       "model_id": "33f1162e52a9421e8c1a2e1cc0e1ffab",
       "version_major": 2,
       "version_minor": 0
      },
      "text/plain": [
       "VBox()"
      ]
     },
     "metadata": {},
     "output_type": "display_data"
    },
    {
     "data": {
      "application/vnd.jupyter.widget-view+json": {
       "model_id": "",
       "version_major": 2,
       "version_minor": 0
      },
      "text/plain": [
       "FloatProgress(value=0.0, bar_style='info', description='Progress:', layout=Layout(height='25px', width='50%'),…"
      ]
     },
     "metadata": {},
     "output_type": "display_data"
    }
   ],
   "source": [
    "# Filter on restaurant data\n",
    "df_yelp_restaurant = df_yelp_parquet.filter(df_yelp_parquet['categories'].contains('Restaurant'))"
   ]
  },
  {
   "cell_type": "code",
   "execution_count": 23,
   "metadata": {},
   "outputs": [
    {
     "data": {
      "application/vnd.jupyter.widget-view+json": {
       "model_id": "cf79ec392eb04cc19c74bea928675678",
       "version_major": 2,
       "version_minor": 0
      },
      "text/plain": [
       "VBox()"
      ]
     },
     "metadata": {},
     "output_type": "display_data"
    },
    {
     "data": {
      "application/vnd.jupyter.widget-view+json": {
       "model_id": "",
       "version_major": 2,
       "version_minor": 0
      },
      "text/plain": [
       "FloatProgress(value=0.0, bar_style='info', description='Progress:', layout=Layout(height='25px', width='50%'),…"
      ]
     },
     "metadata": {},
     "output_type": "display_data"
    },
    {
     "name": "stdout",
     "output_type": "stream",
     "text": [
      "+--------------------+--------------------+--------------------+--------------------+-------------+--------------------+-------+-------------+---------------+--------------------+-----------+------------+-----+-----+\n",
      "|             address|          attributes|         business_id|          categories|         city|               hours|is_open|     latitude|      longitude|                name|postal_code|review_count|stars|state|\n",
      "+--------------------+--------------------+--------------------+--------------------+-------------+--------------------+-------+-------------+---------------+--------------------+-----------+------------+-----+-----+\n",
      "|      404 E Green St|[,, 'none',,,,, F...|pQeaRpvuhoEqudo3u...|Ethnic Food, Food...|    Champaign|[11:30-14:30, 11:...|      1|   40.1104457|    -88.2330726| The Empanadas House|      61820|           5|  4.5|   IL|\n",
      "|4508 E Independen...|[,,,,,,,,, True, ...|CsLQLiRoafpJPJSkN...|Food, Restaurants...|    Charlotte|                null|      0|    35.194894|     -80.767442|    Middle East Deli|      28205|           5|  3.0|   NC|\n",
      "|15480 Bayview Ave...|[,, u'none',,,,, ...|eBEfgOPG7pvFhb2wc...|Restaurants, Chee...|       Aurora|[11:0-22:0, 11:0-...|      1|   44.0109618|     -79.448677|     Philthy Phillys|    L4G 7J1|           4|  4.5|   ON|\n",
      "|     300 John Street|[,, u'none',,,,,,...|lu7vtrp_bE9PnxWfA...|Japanese, Fast Fo...|    Thornhill|                null|      1|   43.8204923|    -79.3984661|        Banzai Sushi|    L3T 5W4|           7|  4.5|   ON|\n",
      "|  13071 Yonge Street|[,, u'full_bar', ...|9sRGfSVEfLhN_km60...|Persian/Iranian, ...|Richmond Hill|[12:0-0:0,, 12:0-...|      1|43.9470107964|  -79.454861645|  Apadana Restaurant|    L4E 1A5|           3|  3.0|   ON|\n",
      "|4550 East Cactus ...|[,, u'none', {'ro...|vjTVxnsQEZ34XjYNS...|Food, Pretzels, B...|      Phoenix|[10:0-21:0, 10:0-...|      1|    33.602822|    -111.983533|   Wetzel's Pretzels|      85032|          10|  4.0|   AZ|\n",
      "|9595 W Tropicana Ave|[,, u'none', {'ro...|fnZrZlqW1Z8iWgTVD...|Mexican, Restaura...|    Las Vegas|                null|      0|   36.0997379|   -115.3015683|           Carl's Jr|      89147|          15|  2.5|   NV|\n",
      "|  843 Kipling Avenue|[,, u'none', {'ro...|rVBPQdeayMYht4Uv_...|Restaurants, Burg...|      Toronto|                null|      0|   43.6332914|    -79.5317683|Gourmet Burger Co...|    M8Z 5G9|          13|  3.0|   ON|\n",
      "|1541 E 38th St, S...|[,, u'none', {'to...|98hyK2QEUeI8v2y0A...|Restaurants, Viet...|    Cleveland|[11:0-20:0, 11:0-...|      1|   41.5121553|     -81.663332|Pho Lee's Vietnam...|      44114|          23|  4.5|   OH|\n",
      "| 6530 S Decatur Blvd|[,, u'none', {'ro...|fhNf_sg-XzZ3e7HEV...|Burgers, Restaura...|    Las Vegas|[11:0-22:0, 11:0-...|      0|    36.071196|    -115.207463|Meat Chix And Wie...|      89118|          10|  3.0|   NV|\n",
      "|5252 Rue Jean Tal...|[,,, {'romantic':...|LoRef3ChgZKbxUio-...|Restaurants, Leba...|     Montréal|                null|      1|45.4948701572| -73.6519035927|                Amir|    H4P 2A7|          18|  3.0|   QC|\n",
      "| 2602 W Southern Ave|[,, u'none', {'ro...|Ga2Bt7xfqoggTypWD...|Mexican, Restaurants|        Tempe|[7:0-20:0, 7:0-20...|      0|    33.393199|     -111.97627|       Amando's Bros|      85282|           9|  4.0|   AZ|\n",
      "|5932 W Bell Rd, S...|[,, u'none',,,,,,...|xFc50drSPxXkcLvX5...|Burgers, Fast Foo...|     Glendale|                null|      0|   33.6403912|   -112.1870284|Boomer's Sweet Ho...|      85308|          12|  3.5|   AZ|\n",
      "|4602 Northfield Road|[,, u'none', {'ro...|tLpkSwdtqqoXwU0JA...|Restaurants, Fast...|    Cleveland|[10:0-3:0, 10:0-3...|      1|    41.434614|    -81.5270257|             Wendy's|      44128|           7|  3.5|   OH|\n",
      "|3460 E Southern A...|[,,,,,,, False,, ...|Sd75ucXKoZUM2BEfB...|Chinese, Restaurants|         Mesa|                null|      0|  33.39486287|-111.7560359322|       China Gourmet|      85204|          13|  3.0|   AZ|\n",
      "|                    |[,, u'none', {'ro...|lK-wuiq8b1TuU7bfb...|Shopping Centers,...|    Cleveland|[0:0-0:0, 0:0-0:0...|      1|41.4893428107|  -81.711028698|           Hingetown|      44113|           4|  3.0|   OH|\n",
      "|    7510 S Priest Dr|[,,,,,,,,, True,,...|LAoSegVNU4wx4GTA8...|Restaurants, Egyp...|        Tempe|                null|      1|   33.3501044|   -111.9636604|   Tzikii Food Truck|      85283|           4|  3.0|   AZ|\n",
      "|    2130 E Arbors Dr|[,, u'none', {'ro...|-qjn24n8HYF6It9GQ...|Fast Food, Americ...|    Charlotte|[11:0-22:0, 11:0-...|      0|     35.33807|     -80.757397|Five Guys Burgers...|      28262|          15|  4.0|   NC|\n",
      "| 311 Unity Center Rd|[,, 'none', {'rom...|ZkzutF0P_u0C0yTul...|  Restaurants, Pizza|         Plum|[11:0-22:0, 0:0-0...|      1|   40.4899958|    -79.7792879|    Lelulos Pizzeria|      15239|          31|  4.0|   PA|\n",
      "|688 Gerrard Street E|[,, u'beer_and_wi...|0QjROMVW9ACKjhSEf...|Vietnamese, Resta...|      Toronto|[11:0-22:0, 11:0-...|      1|43.6663763388| -79.3487726589|    Mi Mi Restaurant|    M4M 1Y3|         116|  4.0|   ON|\n",
      "+--------------------+--------------------+--------------------+--------------------+-------------+--------------------+-------+-------------+---------------+--------------------+-----------+------------+-----+-----+\n",
      "only showing top 20 rows"
     ]
    }
   ],
   "source": [
    "df_yelp_restaurant.show()"
   ]
  },
  {
   "cell_type": "code",
   "execution_count": 28,
   "metadata": {},
   "outputs": [
    {
     "data": {
      "application/vnd.jupyter.widget-view+json": {
       "model_id": "a85dbbff870f48bbb86c2db66a5be0b7",
       "version_major": 2,
       "version_minor": 0
      },
      "text/plain": [
       "VBox()"
      ]
     },
     "metadata": {},
     "output_type": "display_data"
    },
    {
     "data": {
      "application/vnd.jupyter.widget-view+json": {
       "model_id": "",
       "version_major": 2,
       "version_minor": 0
      },
      "text/plain": [
       "FloatProgress(value=0.0, bar_style='info', description='Progress:', layout=Layout(height='25px', width='50%'),…"
      ]
     },
     "metadata": {},
     "output_type": "display_data"
    }
   ],
   "source": [
    "#filter best restaurant\n",
    "df_yelp_best_restaurant = df_yelp_restaurant.filter(df_yelp_restaurant['stars']== 5.0)"
   ]
  },
  {
   "cell_type": "code",
   "execution_count": 29,
   "metadata": {},
   "outputs": [
    {
     "data": {
      "application/vnd.jupyter.widget-view+json": {
       "model_id": "43ccedb1436a462698a58ed0da20c19f",
       "version_major": 2,
       "version_minor": 0
      },
      "text/plain": [
       "VBox()"
      ]
     },
     "metadata": {},
     "output_type": "display_data"
    },
    {
     "data": {
      "application/vnd.jupyter.widget-view+json": {
       "model_id": "",
       "version_major": 2,
       "version_minor": 0
      },
      "text/plain": [
       "FloatProgress(value=0.0, bar_style='info', description='Progress:', layout=Layout(height='25px', width='50%'),…"
      ]
     },
     "metadata": {},
     "output_type": "display_data"
    },
    {
     "name": "stdout",
     "output_type": "stream",
     "text": [
      "+--------------------+--------------------+--------------------+--------------------+----------+--------------------+-------+-------------+---------------+--------------------+-----------+------------+-----+-----+\n",
      "|             address|          attributes|         business_id|          categories|      city|               hours|is_open|     latitude|      longitude|                name|postal_code|review_count|stars|state|\n",
      "+--------------------+--------------------+--------------------+--------------------+----------+--------------------+-------+-------------+---------------+--------------------+-----------+------------+-----+-----+\n",
      "|             S Tryon|[,, u'none', {'ro...|3C0bnFhjkgYP9mWOR...|Hot Dogs, Food, S...| Charlotte|[11:0-14:30,,,, 1...|      1|    35.226911|     -80.843823|           Chili Man|      28202|         172|  5.0|   NC|\n",
      "|3759 E Desert Inn Rd|[,, 'none', {'tou...|AN0bWhisCf6LN9eHZ...|Restaurants, Italian| Las Vegas|[16:0-21:0, 0:0-0...|      1|   36.1291778|   -115.0924833|Los Olivos Ristor...|      89121|         222|  5.0|   NV|\n",
      "|1360 Boulevard Ro...|[,, None, {'touri...|eKbN4KVQYgGt3flbY...|Food, Cafes, Coff...|  Montréal|[8:0-17:0, 0:0-0:...|      1|   45.5377712|    -73.5921526|      Café dei Campi|    H2G 1V4|          24|  5.0|   QC|\n",
      "|1199 Dundas Street W|[,, u'none', {'to...|VUADGMPLJoWqhHb1G...|Vegan, Restaurant...|   Toronto|[11:0-19:0, 11:0-...|      1|   43.6491656|    -79.4224977|              Veghed|    M6J 1X3|          71|  5.0|   ON|\n",
      "|         325 6th Ave|[,,,,,,,,,,,,,,,,...|y-0Twdg0sIhrh7BFJ...|Arts & Entertainm...|Pittsburgh|[7:0-22:0, 7:0-22...|      1|    40.441961|     -79.998665|       Duquesne Club|      15222|           3|  5.0|   PA|\n",
      "|1990 W Camelback ...|[,,,,,,,,,, {'gar...|xOcJHzV3X0lKHN9Lc...|Restaurants, Deli...|   Phoenix|                null|      1|   33.5102456|   -112.1014565|Catabella's Deli ...|      85015|           3|  5.0|   AZ|\n",
      "|                    |[,, u'none',,,,, ...|59roFbMHNSt6H3UbO...|Greek, Restaurant...|   Toronto|[8:0-20:0, 8:0-20...|      1|   43.7516334|    -79.3643317|Better than Yia Y...|    M3B 3B5|           3|  5.0|   ON|\n",
      "|     343 Jane Street|[,,,,,,,,,,,, Tru...|MTneG8wJrUxIzIfnH...|Event Planning & ...|   Toronto|[10:0-18:0, 10:0-...|      1|   43.6573337|    -79.4873715|   Baby Point Lounge|    M6S 3Z3|           5|  5.0|   ON|\n",
      "|      233 Douglas Dr|                null|gyCHpPhwXJksHOJ8y...|American (Traditi...|  Brooklyn|[16:0-21:0,, 16:0...|      1|42.8591239933|  -89.369529672| Down Home Cookhouse|      53521|           9|  5.0|   WI|\n",
      "|   4375 S Buffalo Dr|[,, u'beer_and_wi...|vK8Q6qHL9t9RpifSI...|Restaurants, Sala...| Las Vegas|[11:0-22:0, 0:0-0...|      1|   36.1095085|   -115.2619491|Bambini's Pizzeri...|      89147|          29|  5.0|   NV|\n",
      "| 1370 Street Clair W|[,, u'full_bar', ...|5IRIBTFKc_vfiMnN6...|Tapas/Small Plate...|   Toronto|[12:0-22:30,, 12:...|      1| 43.675498504| -79.4547262134|       Mercado Negro|    M6E 1C4|           8|  5.0|   ON|\n",
      "|131-1B Matthews S...|[,, 'beer_and_win...|fFxxsUakG4WpPa5OY...|Nightlife, Bars, ...|  Matthews|[11:0-22:0,, 11:0...|      1|   35.1167363|    -80.7192328|Black Chicken Win...|      28105|          36|  5.0|   NC|\n",
      "|3029 N Alma Schoo...|[,,,,,,,,,,,,,,,,...|tXusw4j0l9IGJj3fm...|Bakeries, Dessert...|  Chandler|                null|      0|    33.351069|    -111.857927|   Gratifying Grains|      85224|           7|  5.0|   AZ|\n",
      "|    3521 E Thomas Rd|[,, u'none',, Fal...|jk-eI5_D63zK-WGeW...|Restaurants, Mexi...|   Phoenix|[11:0-20:0, 0:0-0...|      1|   33.4804559|   -112.0056234|           Jalapenos|      85018|           7|  5.0|   AZ|\n",
      "|                    |[,, 'none', {'rom...|XfgHILSTiFuoK69Z4...|Local Flavor, Res...|Pittsburgh|                null|      0|    40.440368|    -79.9836108|    Newman & Marleys|      15219|           4|  5.0|   PA|\n",
      "|                    |[,,,,,,,, False, ...|Jr1_Pt8TQihTISYc5...|Carpet Cleaning, ...|   Phoenix|[7:0-18:30, 0:0-0...|      1|   33.6364503|   -112.0118669|      Saenz Cleaning|      85032|          29|  5.0|   AZ|\n",
      "|7595 W Washington...|[,, u'none', {'to...|Z4UQlerXfBH8jv6Xc...|Creperies, Restau...| Las Vegas|[9:0-14:0, 0:0-0:...|      1|   36.1810984|   -115.2592634|      The Real Crepe|      89128|         205|  5.0|   NV|\n",
      "|11-100 Anderson R...|[,, u'none', {'to...|BR6__D6SzLEoKzdxO...|  Restaurants, Cafes|   Calgary|[8:0-21:0, 8:0-21...|      1|50.9538665908| -114.065063931|       Analog Coffee|    T2J 3V1|           5|  5.0|   AB|\n",
      "|       4 Avenue Road|[,, u'full_bar', ...|nER4r71-nLBpy4Zkr...| Restaurants, Kosher|   Toronto|                null|      0|   43.6692689|    -79.3950356|Park Hyatt Toront...|    M5S 1T6|           5|  5.0|   ON|\n",
      "|  4439 W Flamingo Rd|[,, u'beer_and_wi...|MPD8oyot_RIS4ECrt...|Restaurants, Japa...| Las Vegas|[18:0-23:0, 0:0-0...|      1|36.1147557577|-115.2009204403|          Tatsujin X|      89103|          44|  5.0|   NV|\n",
      "+--------------------+--------------------+--------------------+--------------------+----------+--------------------+-------+-------------+---------------+--------------------+-----------+------------+-----+-----+\n",
      "only showing top 20 rows"
     ]
    }
   ],
   "source": [
    "df_yelp_best_restaurant.show()"
   ]
  },
  {
   "cell_type": "code",
   "execution_count": 30,
   "metadata": {},
   "outputs": [
    {
     "data": {
      "application/vnd.jupyter.widget-view+json": {
       "model_id": "95d55ae26ff247d58ee780b1c3e5e966",
       "version_major": 2,
       "version_minor": 0
      },
      "text/plain": [
       "VBox()"
      ]
     },
     "metadata": {},
     "output_type": "display_data"
    },
    {
     "data": {
      "application/vnd.jupyter.widget-view+json": {
       "model_id": "",
       "version_major": 2,
       "version_minor": 0
      },
      "text/plain": [
       "FloatProgress(value=0.0, bar_style='info', description='Progress:', layout=Layout(height='25px', width='50%'),…"
      ]
     },
     "metadata": {},
     "output_type": "display_data"
    }
   ],
   "source": [
    "# Filter best restaurant in city Phoenix\n",
    "df_yelp_best_restaurant = df_yelp_restaurant.filter(df_yelp_restaurant['city']== 'Phoenix')"
   ]
  },
  {
   "cell_type": "code",
   "execution_count": 32,
   "metadata": {},
   "outputs": [
    {
     "data": {
      "application/vnd.jupyter.widget-view+json": {
       "model_id": "af92f18e7571481bbd14df6d94b1aed6",
       "version_major": 2,
       "version_minor": 0
      },
      "text/plain": [
       "VBox()"
      ]
     },
     "metadata": {},
     "output_type": "display_data"
    },
    {
     "data": {
      "application/vnd.jupyter.widget-view+json": {
       "model_id": "",
       "version_major": 2,
       "version_minor": 0
      },
      "text/plain": [
       "FloatProgress(value=0.0, bar_style='info', description='Progress:', layout=Layout(height='25px', width='50%'),…"
      ]
     },
     "metadata": {},
     "output_type": "display_data"
    },
    {
     "name": "stdout",
     "output_type": "stream",
     "text": [
      "+--------------------+\n",
      "|                name|\n",
      "+--------------------+\n",
      "|   Wetzel's Pretzels|\n",
      "|     Sam's Deli Mart|\n",
      "|    Church's Chicken|\n",
      "|         Sam's Gyros|\n",
      "|          Asian Cafe|\n",
      "|Tacos y Mariscos ...|\n",
      "|       Amando's Bros|\n",
      "|         Bonus Round|\n",
      "|            Garcia's|\n",
      "|Times Square Neig...|\n",
      "|La Casa Del Mariachi|\n",
      "|Little Caesars Pizza|\n",
      "|Catabella's Deli ...|\n",
      "|         Crazy Jim's|\n",
      "|  Zipps Sports Grill|\n",
      "| Pei Wei Asian Diner|\n",
      "|          stonegrill|\n",
      "|           Five Guys|\n",
      "|Santanas Mexican ...|\n",
      "|           City Cafe|\n",
      "+--------------------+\n",
      "only showing top 20 rows"
     ]
    }
   ],
   "source": [
    "# Display names of restaurant \n",
    "df_yelp_best_restaurant.select('name').show()"
   ]
  },
  {
   "cell_type": "code",
   "execution_count": null,
   "metadata": {},
   "outputs": [],
   "source": []
  }
 ],
 "metadata": {
  "kernelspec": {
   "display_name": "PySpark",
   "language": "",
   "name": "pysparkkernel"
  },
  "language_info": {
   "codemirror_mode": {
    "name": "python",
    "version": 2
   },
   "mimetype": "text/x-python",
   "name": "pyspark",
   "pygments_lexer": "python2"
  }
 },
 "nbformat": 4,
 "nbformat_minor": 4
}
